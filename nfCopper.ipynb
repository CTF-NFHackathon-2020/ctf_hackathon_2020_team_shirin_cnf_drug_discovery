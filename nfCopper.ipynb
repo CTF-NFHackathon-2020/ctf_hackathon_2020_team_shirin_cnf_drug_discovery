{
 "cells": [
  {
   "cell_type": "markdown",
   "metadata": {},
   "source": [
    "# Copper complexes as a proposed new CNF therapeutic strategy\n",
    "\n",
    "## Abstract\n",
    "\n",
    "CNF is a benign tumor condition very common in NF1. It can be disfiguring and painful, and is cited as the most burdensome feature of NF1. There are currently no effective drugs. [Chamseddin]\n",
    "\n",
    "This notebook covers one of our NF Hackathon 2020 projects. We combined information from the RNASeq gene expression dataset, the Synapse Drug Target Explorer, and other literature references to propose a hypothesis for the use of copper complexes as a new therapeutic strategy for CNF.\n",
    "\n",
    "Our RNASeq dataset included a variety of tumor types; we concentrated on CNF. We compared Z-scores (normalized gene expression values) between CNF specimens and a control group of normal tissue specimens specified by domain experts. We took the set of genes that were **most overexpressed** vs. normal tissue, and cross-checked it against Synapse's Drug Target Explorer. Our results:\n",
    "- We found that many of these most overexpressed genes appeared in the Drug Target Explorer as coding for copper binding proteins.\n",
    "- Further, when we did a literature search for these most overexpressed copper-binding proteins we found that they all played important roles in tumor suppression and/or the immune system anti-tumor response. It therefore seems plausible that the overexpression of these genes is part of the protective anti-tumor system.\n",
    "- Finally, it seems plausible that since these proteins are highly overexpressed the availability of copper might become a rate-limiting factor for their activity. It would follow that if we act to increase the available level of copper at the cellular level, these proteins might become more active and the natural antitumor response might be potentiated.\n",
    "\n",
    "We propose to test copper complexes for activity in available in vitro models of CNF.\n",
    "In particular, we suggest testing known anti-inflammatory complexes such as copper aspirinate [Jackson, Sorensen],\n",
    "as well as proposed anti-cancer agents [Hussain].\n",
    "We also propose testing the copper tripeptide in [Hostynek],\n",
    "which may be usable transdermally."
   ]
  },
  {
   "cell_type": "markdown",
   "metadata": {},
   "source": [
    "## Details\n",
    "For the full code and execution, see the experimental section below.\n",
    "\n",
    "We downloaded the RNASeq database from Synapse,\n",
    "and separated out the 33 Cutaneous Neurofibroma (CNF) specimens,\n",
    "and for normal controls the specimens ipn02.3 and ipn97.4, derived from normal Schwann cells\n",
    "(the selection of normal controls was based on advice from domain experts\n",
    "Ray Mattingly and Sarah Gosline).\n",
    "\n",
    "We took the mean zScore values for each gene for the normal controls and compared them\n",
    "with the zScore values from each specimen.\n",
    "Note the zScore values are described by Synapse as being normalized to adjust for technical differences\n",
    "between different studies and therefore allow comparable measurements between samples for the same gene.\n",
    "\n",
    "For each gene we took the mean\n",
    "of the differences between the CNF zScore values and the mean normal zScore value,\n",
    "clipping each difference to (-20,+20) to reduce the influence of outliers.\n",
    "We then took the 10 genes with the highest mean difference values\n",
    "as the most overexpressed genes. The complete list of these 10 most overexpressed genes was:\n",
    "### DCN, APOD, GSN, AHNAK, KRT10, KRT1, KRT14, KRT5, FLG, B2M\n",
    "We then cross-checked these genes against the Synapse Drug Target Explorer,\n",
    "and found the 5 listed below as encoding copper-binding proteins:\n",
    "### APOD, GSN, KRT10, KRT1, B2M\n",
    "We then looked at the literature on these genes, and found that\n",
    "for each of them there was substantial evidence for a role\n",
    "in tumor suppression and/or antitumor immune response.\n",
    "The following is a sampling of this evidence for each of the genes:\n",
    "\n",
    "### APOD\n",
    "Apolipoprotein D is a secreted glycoprotein with many putative functions including lipid transport.\n",
    "Unlike other apolipoproteins which are mainly produced in the liver,\n",
    "APOD is widely expressed in many human tissues, with different glycosylation profiles.\n",
    "The functional profile of APOD seems quite intricate,\n",
    "as its expression appears to be controlled by a complex array of regulatory elements,\n",
    "and it is able to bind several ligands with micromolar affinity [Muffat].\n",
    "\n",
    "**Evidence of tumor suppressor role:** A number of studies have reported alterations in APOD expression in cancer;\n",
    "generally, higher APOD expression correlates negatively with aggressiveness\n",
    "in several types of malignant tumor.\n",
    "Moreover, APOD has been shown to function in cell growth inhibition,\n",
    "and is a direct transcriptional target of p53 family members p63 and p73\n",
    "(these have a high homology with p53 and so are possible tumor suppressor genes)  [Muffat].\n",
    "\n",
    "### GSN\n",
    "Gelsolin is a widely expressed actin (cytoskeletal) regulator,\n",
    "and has been reported to be a multifunctional regulator\n",
    "of cell migration, proliferation and apoptosis [Guo].\n",
    "\n",
    "**Evidence of tumor suppressor role:**\n",
    "[Li] reports that upregulation of the expression of GSN in human colon cancer (CC) cells\n",
    "significantly reduced the invasiveness of these cells.\n",
    "Further, the expression levels of GSN were observed to be reduced in CC cells,\n",
    "and the reduced expression level of GSN was often associated with a poorer\n",
    "metastasis‑free survival rate in patients with CC (P=0.04).\n",
    "[Guo] reports that GSN overexpression significantly suppressed cell proliferation,\n",
    "colony formation and invasion, and promoted apoptosis of natural killer (NK) cell line YTS.\n",
    "\n",
    "### KRT10, KRT1\n",
    "These are members of the keratin protein family.\n",
    "Keratins are epithelial-predominant components of the intermediate filament cytoskeleton.\n",
    "The KRT10/KRT1 pair in particular forms a heterodimer that is a major constituent of the\n",
    "intermediate cytoskeleton in suprabasal epidermis.\n",
    "In addition to their structural role,\n",
    "keratins are known to regulate various signalling pathways in cell growth, apoptosis, etc.;\n",
    "these regulatory roles are still emerging [Dmello].\n",
    "\n",
    "**Evidence of tumor suppressor and immune system roles:**\n",
    "For KRT10, there is substantial evidence of antitumor activity.\n",
    "For example, [Santos] gives experimental evidence that\n",
    "increased expression of KRT10 inhibits cell proliferation and prevents tumorigenesis.\n",
    "This is attributed to inhibition of Akt and PKC by K10.\n",
    "For KRT1, [Roth] reports evidence of a role in regulating immune response and inflammation.\n",
    "\n",
    "### B2M\n",
    "Beta-2 microglobulin is a serum protein found in association with the major histocompatibility complex (MHC)\n",
    "class I heavy chain on the surface of nearly all nucleated cells.\n",
    "It plays a key role in the immune system,\n",
    "specifically in presentation of peptide antigens.\n",
    "           \n",
    "**Evidence of immune system/antitumor role:**\n",
    "[Gould] reports that high B2M expression correlates with an immunologically active\n",
    "or 'hot' tumor microenvironment in diffuse large B-cell lymphoma,\n",
    "characterised by higher levels of immune cell infiltration.\n",
    "[Sade-Feldman] reports that loss of one copy of B2M was correlated with\n",
    "non-response and poorer survival rates in metastatic melanoma patients treated\n",
    "with immune checkpoint blockade (CPB) therapies,\n",
    "while loss of both copies of B2M was found only in non-responders."
   ]
  },
  {
   "cell_type": "markdown",
   "metadata": {},
   "source": [
    "## References\n"
   ]
  },
  {
   "cell_type": "markdown",
   "metadata": {},
   "source": [
    "[Chamseddin] Chamseddin BH, Le LQ.\\\n",
    "*Management of cutaneous neurofibroma: current therapy and future directions.*\\\n",
    "Neuro-Oncology Advances, V2, Issue Supplement_1, 7/2020, i107–i116, https://doi.org/10.1093/noajnl/vdz034 \n",
    "\n",
    "[Dmello] Dmello C, Srivastava SS, et. al.\\\n",
    "*Multifaceted role of keratins in epithelial cell differentiation and transformation*\\\n",
    "J Biosci. 2019 Jun;44(2):33. https://pubmed.ncbi.nlm.nih.gov/31180046/\n",
    "\n",
    "[Gould] Gould C, Keane C, et. al.\\\n",
    "*B2M Gene Expression Reflects an Immunologically Active Tumor Microenvironment in DLBCL*\\\n",
    "Blood (2019) 134 (Supplement_1): 2778. https://doi.org/10.1182/blood-2019-126537\n",
    "\n",
    "[Guo] Guo Y, Zhang H, et al.\\\n",
    "*Gelsolin regulates proliferation, apoptosis and invasion in natural killer/T-cell lymphoma cells*\\\n",
    "Biol Open. 2018;7(1):bio027557. https://www.ncbi.nlm.nih.gov/pmc/articles/PMC5827263/\n",
    "\n",
    "[Hostynek] Hostynek JJ, Dreher F, Maibach HI.\\\n",
    "*Human skin penetration of a copper tripeptide in vitro as a function of skin layer.*\\\n",
    "Inflamm Res. 2011;60(1):79-86. https://www.ncbi.nlm.nih.gov/pmc/articles/PMC3016279/\n",
    "\n",
    "[Hussain] Hussain, A, AlAjmi, MF, Rehman, MT, et. al.\\\n",
    "*Copper(II) complexes as potential anticancer and Nonsteroidal anti-inflammatory agents: In vitro and in vivo studies.*\\\n",
    "Sci Rep 9, 5237 (2019). https://doi.org/10.1038/s41598-019-41063-x\n",
    "\n",
    "[Jackson] Jackson GE, Mkhonta-Gama L, et. al.\\\n",
    "*Design of copper-based anti-inflammatory drugs.*\\\n",
    "J Inorg Biochem. 2000 Apr;79(1-4):147-52. https://pubmed.ncbi.nlm.nih.gov/10830859/ \n",
    "\n",
    "[Li] Li WX, Yang MX, et. al.\\\n",
    "*Overexpression of gelsolin reduces the proliferation and invasion of colon carcinoma cells*\\\n",
    "Mol Med Rep. 2016 Oct;14(4):3059-65. https://pubmed.ncbi.nlm.nih.gov/27573444/\n",
    "\n",
    "[Muffat] Muffat J, Walker DW.\\\n",
    "*Apolipoprotein D: an overview of its role in aging and age-related diseases*\\\n",
    "Cell Cycle. 2010;9(2):269-273. https://www.ncbi.nlm.nih.gov/pmc/articles/PMC3691099/\n",
    "\n",
    "[Roth] Roth W, Kumar V, et. al.\\\n",
    "*Keratin 1 maintains skin integrity and participates in an inflammatory network in skin through interleukin-18*\\\n",
    "Journal of Cell Science 2012 125: 5269-5279. https://jcs.biologists.org/content/125/22/5269\n",
    "\n",
    "[Sade-Feldman] Sade-Feldman, M, Jiao, YJ, et al.\n",
    "*Resistance to checkpoint blockade therapy through inactivation of antigen presentation*\\\n",
    "Nat Commun 8, 1136 (2017). https://doi.org/10.1038/s41467-017-01062-w\n",
    "\n",
    "[Santos] Santos M, Paramio JM et. al.\\\n",
    "*The Expression of Keratin K10 in the Basal Layer of the Epidermis Inhibits Cell Proliferation and Prevents Skin Tumorigenesis*\\\n",
    "The Journal of Biological Chemistry 277, 19122-19130. https://www.jbc.org/content/277/21/19122.short\n",
    "\n",
    "[Sorenson] Sorenson JR.\\\n",
    "*Copper chelates as possible active forms of the antiarthritic agents.*\\\n",
    "J Med Chem. 1976 Jan;19(1):135-48. doi: 10.1021/jm00223a024. https://pubmed.ncbi.nlm.nih.gov/1246036/"
   ]
  },
  {
   "cell_type": "markdown",
   "metadata": {},
   "source": [
    "# Experimental section\n",
    "## Import libraries"
   ]
  },
  {
   "cell_type": "code",
   "execution_count": 1,
   "metadata": {},
   "outputs": [],
   "source": [
    "%reload_ext autoreload\n",
    "%autoreload 2\n",
    "%matplotlib inline"
   ]
  },
  {
   "cell_type": "code",
   "execution_count": 2,
   "metadata": {},
   "outputs": [],
   "source": [
    "import collections\n",
    "import csv\n",
    "import itertools\n",
    "import os\n",
    "\n",
    "import numpy as np\n",
    "import pandas as pd\n",
    "import matplotlib.pyplot as plt\n",
    "import synapseclient"
   ]
  },
  {
   "cell_type": "markdown",
   "metadata": {},
   "source": [
    "\n",
    "## Retrieve the RNASeq dataset from Synapse if necessary"
   ]
  },
  {
   "cell_type": "code",
   "execution_count": 3,
   "metadata": {},
   "outputs": [],
   "source": [
    "dataDir = '/home/jovyan/work/output' # directory for large data files\n",
    "\n",
    "use_saved = True\n",
    "if use_saved :\n",
    "    genes_with_meta = pd.read_pickle(os.path.join(dataDir,'rnaseq.pkl'))\n",
    "else :\n",
    "\n",
    "    syn = synapseclient.Synapse()\n",
    "    ## log in using username and password\n",
    "    syn.login()\n",
    "    entity = syn.get('syn20449214')\n",
    "    print(entity.id)\n",
    "    results = syn.tableQuery(\"SELECT * FROM syn20449214\")\n",
    "    genes_with_meta = results.asDataFrame()\n",
    "    genes_with_meta.to_pickle(os.path.join(dataDir,'rnaseq.pkl'))"
   ]
  },
  {
   "cell_type": "markdown",
   "metadata": {},
   "source": [
    "\n",
    "## Quick look at the RNASeq data"
   ]
  },
  {
   "cell_type": "code",
   "execution_count": 4,
   "metadata": {
    "scrolled": true
   },
   "outputs": [
    {
     "data": {
      "text/plain": [
       "Index(['totalCounts', 'Symbol', 'path', 'zScore', 'specimenID', 'parent',\n",
       "       'individualID', 'assay', 'dataType', 'sex', 'consortium', 'study',\n",
       "       'diagnosis', 'tumorType', 'species', 'fundingAgency', 'resourceType',\n",
       "       'nf1Genotype', 'nf2Genotype', 'studyName', 'used', 'age', 'isCellLine',\n",
       "       'experimentalCondition', 'transplantationType', 'modelOf'],\n",
       "      dtype='object')"
      ]
     },
     "execution_count": 4,
     "metadata": {},
     "output_type": "execute_result"
    }
   ],
   "source": [
    "genes_with_meta.columns"
   ]
  },
  {
   "cell_type": "code",
   "execution_count": 5,
   "metadata": {},
   "outputs": [
    {
     "data": {
      "text/html": [
       "<div>\n",
       "<style scoped>\n",
       "    .dataframe tbody tr th:only-of-type {\n",
       "        vertical-align: middle;\n",
       "    }\n",
       "\n",
       "    .dataframe tbody tr th {\n",
       "        vertical-align: top;\n",
       "    }\n",
       "\n",
       "    .dataframe thead th {\n",
       "        text-align: right;\n",
       "    }\n",
       "</style>\n",
       "<table border=\"1\" class=\"dataframe\">\n",
       "  <thead>\n",
       "    <tr style=\"text-align: right;\">\n",
       "      <th></th>\n",
       "      <th>totalCounts</th>\n",
       "      <th>Symbol</th>\n",
       "      <th>path</th>\n",
       "      <th>zScore</th>\n",
       "      <th>specimenID</th>\n",
       "      <th>parent</th>\n",
       "      <th>individualID</th>\n",
       "      <th>assay</th>\n",
       "      <th>dataType</th>\n",
       "      <th>sex</th>\n",
       "      <th>...</th>\n",
       "      <th>resourceType</th>\n",
       "      <th>nf1Genotype</th>\n",
       "      <th>nf2Genotype</th>\n",
       "      <th>studyName</th>\n",
       "      <th>used</th>\n",
       "      <th>age</th>\n",
       "      <th>isCellLine</th>\n",
       "      <th>experimentalCondition</th>\n",
       "      <th>transplantationType</th>\n",
       "      <th>modelOf</th>\n",
       "    </tr>\n",
       "  </thead>\n",
       "  <tbody>\n",
       "    <tr>\n",
       "      <th>1_9324</th>\n",
       "      <td>136.993</td>\n",
       "      <td>A1BG</td>\n",
       "      <td>patient10tumor1_quant.sf</td>\n",
       "      <td>-0.226861</td>\n",
       "      <td>patient10tumor1</td>\n",
       "      <td>syn18407530</td>\n",
       "      <td>patient10</td>\n",
       "      <td>rnaSeq</td>\n",
       "      <td>geneExpression</td>\n",
       "      <td>Male</td>\n",
       "      <td>...</td>\n",
       "      <td>experimentalData</td>\n",
       "      <td>-/-</td>\n",
       "      <td>unknown</td>\n",
       "      <td>Cutaneous Neurofibroma Data Resource</td>\n",
       "      <td>syn20430744</td>\n",
       "      <td>NaN</td>\n",
       "      <td>NaN</td>\n",
       "      <td>NaN</td>\n",
       "      <td>NaN</td>\n",
       "      <td>Cutaneous Neurofibroma</td>\n",
       "    </tr>\n",
       "    <tr>\n",
       "      <th>2_9324</th>\n",
       "      <td>168.454</td>\n",
       "      <td>A1BG</td>\n",
       "      <td>patient10tumor2_quant.sf</td>\n",
       "      <td>-0.248889</td>\n",
       "      <td>patient10tumor2</td>\n",
       "      <td>syn18407530</td>\n",
       "      <td>patient10</td>\n",
       "      <td>rnaSeq</td>\n",
       "      <td>geneExpression</td>\n",
       "      <td>Male</td>\n",
       "      <td>...</td>\n",
       "      <td>experimentalData</td>\n",
       "      <td>-/-</td>\n",
       "      <td>unknown</td>\n",
       "      <td>Cutaneous Neurofibroma Data Resource</td>\n",
       "      <td>syn20430745</td>\n",
       "      <td>NaN</td>\n",
       "      <td>NaN</td>\n",
       "      <td>NaN</td>\n",
       "      <td>NaN</td>\n",
       "      <td>Cutaneous Neurofibroma</td>\n",
       "    </tr>\n",
       "    <tr>\n",
       "      <th>3_9324</th>\n",
       "      <td>115.456</td>\n",
       "      <td>A1BG</td>\n",
       "      <td>patient10tumor3_quant.sf</td>\n",
       "      <td>-0.115625</td>\n",
       "      <td>patient10tumor3</td>\n",
       "      <td>syn18407530</td>\n",
       "      <td>patient10</td>\n",
       "      <td>rnaSeq</td>\n",
       "      <td>geneExpression</td>\n",
       "      <td>Male</td>\n",
       "      <td>...</td>\n",
       "      <td>experimentalData</td>\n",
       "      <td>-/-</td>\n",
       "      <td>unknown</td>\n",
       "      <td>Cutaneous Neurofibroma Data Resource</td>\n",
       "      <td>syn20430746</td>\n",
       "      <td>NaN</td>\n",
       "      <td>NaN</td>\n",
       "      <td>NaN</td>\n",
       "      <td>NaN</td>\n",
       "      <td>Cutaneous Neurofibroma</td>\n",
       "    </tr>\n",
       "  </tbody>\n",
       "</table>\n",
       "<p>3 rows × 26 columns</p>\n",
       "</div>"
      ],
      "text/plain": [
       "        totalCounts Symbol                      path    zScore  \\\n",
       "1_9324      136.993   A1BG  patient10tumor1_quant.sf -0.226861   \n",
       "2_9324      168.454   A1BG  patient10tumor2_quant.sf -0.248889   \n",
       "3_9324      115.456   A1BG  patient10tumor3_quant.sf -0.115625   \n",
       "\n",
       "             specimenID       parent individualID   assay        dataType  \\\n",
       "1_9324  patient10tumor1  syn18407530    patient10  rnaSeq  geneExpression   \n",
       "2_9324  patient10tumor2  syn18407530    patient10  rnaSeq  geneExpression   \n",
       "3_9324  patient10tumor3  syn18407530    patient10  rnaSeq  geneExpression   \n",
       "\n",
       "         sex  ...      resourceType nf1Genotype nf2Genotype  \\\n",
       "1_9324  Male  ...  experimentalData         -/-     unknown   \n",
       "2_9324  Male  ...  experimentalData         -/-     unknown   \n",
       "3_9324  Male  ...  experimentalData         -/-     unknown   \n",
       "\n",
       "                                   studyName         used age isCellLine  \\\n",
       "1_9324  Cutaneous Neurofibroma Data Resource  syn20430744 NaN        NaN   \n",
       "2_9324  Cutaneous Neurofibroma Data Resource  syn20430745 NaN        NaN   \n",
       "3_9324  Cutaneous Neurofibroma Data Resource  syn20430746 NaN        NaN   \n",
       "\n",
       "       experimentalCondition transplantationType                 modelOf  \n",
       "1_9324                   NaN                 NaN  Cutaneous Neurofibroma  \n",
       "2_9324                   NaN                 NaN  Cutaneous Neurofibroma  \n",
       "3_9324                   NaN                 NaN  Cutaneous Neurofibroma  \n",
       "\n",
       "[3 rows x 26 columns]"
      ]
     },
     "execution_count": 5,
     "metadata": {},
     "output_type": "execute_result"
    }
   ],
   "source": [
    "genes_with_meta.head(3)"
   ]
  },
  {
   "cell_type": "markdown",
   "metadata": {},
   "source": [
    "The following table contains detailed descriptions of the metadata variables included in the data file:\n",
    "\n",
    "Var | Description\n",
    "--- | --- \n",
    " _id_  |  the synapseIDs of the individual files with raw data\n",
    " _specimenID_  |  individual samples\n",
    " _species_  |  the source of the specimen\n",
    " _age_  |  the age of the patient \n",
    " _Sex_  |  the sex of the patient\n",
    " _tumorType_  |  the the type of tumor, can be one of 7 different diagnoses\n",
    " _isCellLine_  |  indicates whether the origin tissue was a cell line or a patient\n",
    " _study_  |  the specific initiative/consortia that the study was a part of\n",
    " _Symbol_  |  the common names of genes \n",
    " _cellCulture_  |  whether the data was obtained from a cell culture experiment or an _in-vivo_ experiment. Many inherent differences exist between _cell culture_ experiments and _in-vivo_ experiments. These differences may need to be taken into account during analysis and interpretation of the data\n",
    " _totalCounts_  |  the main measure of expression levels of the gene. _(the values documented here are not corrected for batch/study)_ \n",
    " _zScore_  |  normalized counts (counts for a gene can vary significantly due to technical differences in different studies, so we normalized the counts into a zScore for a comparable measurement between samples for the same gene)"
   ]
  },
  {
   "cell_type": "code",
   "execution_count": 6,
   "metadata": {},
   "outputs": [
    {
     "data": {
      "text/plain": [
       "(7778164, 26)"
      ]
     },
     "execution_count": 6,
     "metadata": {},
     "output_type": "execute_result"
    }
   ],
   "source": [
    "# Total RNASeq size:\n",
    "genes_with_meta.shape"
   ]
  },
  {
   "cell_type": "code",
   "execution_count": 7,
   "metadata": {
    "scrolled": false
   },
   "outputs": [
    {
     "data": {
      "text/plain": [
       "array(['Cutaneous Neurofibroma', 'Neurofibroma',\n",
       "       'Malignant Peripheral Nerve Sheath Tumor',\n",
       "       'Plexiform Neurofibroma', 'normal', 'Low Grade Glioma',\n",
       "       'High Grade Glioma', 'Meningioma', 'schwannoma', 'NF1 tumor',\n",
       "       'Malignant peripheral nerve sheath tumor', 'Schwannoma',\n",
       "       'Ependymoma', 'Ganglioglioma', 'Other'], dtype=object)"
      ]
     },
     "execution_count": 7,
     "metadata": {},
     "output_type": "execute_result"
    }
   ],
   "source": [
    "# All RNASeq tissue types:\n",
    "genes_with_meta['modelOf'].unique()"
   ]
  },
  {
   "cell_type": "code",
   "execution_count": 8,
   "metadata": {
    "scrolled": false
   },
   "outputs": [
    {
     "data": {
      "image/png": "[encoded data removed]",
      "text/plain": [
       "<Figure size 432x288 with 1 Axes>"
      ]
     },
     "metadata": {
      "needs_background": "light"
     },
     "output_type": "display_data"
    }
   ],
   "source": [
    "# Histogram of zScore values:\n",
    "plt.xlim(-1,1)\n",
    "genes_with_meta.zScore.hist(bins=[0.01*i for i in range(-110,110)]);"
   ]
  },
  {
   "cell_type": "code",
   "execution_count": 9,
   "metadata": {},
   "outputs": [],
   "source": [
    "def printCounts(modelOfVal,cols) :\n",
    "    df = genes_with_meta[genes_with_meta['modelOf'] == modelOfVal]\n",
    "    print(modelOfVal+':')\n",
    "    print(' ',len(df),'entries from:')\n",
    "    for col in cols :\n",
    "        print('   ',len(df[col].unique()),col+'s')"
   ]
  },
  {
   "cell_type": "code",
   "execution_count": 10,
   "metadata": {
    "scrolled": true
   },
   "outputs": [
    {
     "name": "stdout",
     "output_type": "stream",
     "text": [
      "Cutaneous Neurofibroma:\n",
      "  630234 entries from:\n",
      "    33 specimenIDs\n",
      "    11 individualIDs\n",
      "normal:\n",
      "  1970911 entries from:\n",
      "    100 specimenIDs\n",
      "    25 individualIDs\n"
     ]
    }
   ],
   "source": [
    "# RNASeq counts for CNF and normal:\n",
    "for modelOfVal in ['Cutaneous Neurofibroma','normal'] :\n",
    "    printCounts(modelOfVal,['specimenID','individualID'])"
   ]
  },
  {
   "cell_type": "markdown",
   "metadata": {},
   "source": [
    "## Separate out CNF data"
   ]
  },
  {
   "cell_type": "code",
   "execution_count": 11,
   "metadata": {},
   "outputs": [
    {
     "data": {
      "text/html": [
       "<div>\n",
       "<style scoped>\n",
       "    .dataframe tbody tr th:only-of-type {\n",
       "        vertical-align: middle;\n",
       "    }\n",
       "\n",
       "    .dataframe tbody tr th {\n",
       "        vertical-align: top;\n",
       "    }\n",
       "\n",
       "    .dataframe thead th {\n",
       "        text-align: right;\n",
       "    }\n",
       "</style>\n",
       "<table border=\"1\" class=\"dataframe\">\n",
       "  <thead>\n",
       "    <tr style=\"text-align: right;\">\n",
       "      <th></th>\n",
       "      <th>Symbol</th>\n",
       "      <th>specimenID</th>\n",
       "      <th>individualID</th>\n",
       "      <th>zScore</th>\n",
       "      <th>modelOf</th>\n",
       "    </tr>\n",
       "  </thead>\n",
       "  <tbody>\n",
       "    <tr>\n",
       "      <th>1_9324</th>\n",
       "      <td>A1BG</td>\n",
       "      <td>patient10tumor1</td>\n",
       "      <td>patient10</td>\n",
       "      <td>-0.226861</td>\n",
       "      <td>Cutaneous Neurofibroma</td>\n",
       "    </tr>\n",
       "    <tr>\n",
       "      <th>2_9324</th>\n",
       "      <td>A1BG</td>\n",
       "      <td>patient10tumor2</td>\n",
       "      <td>patient10</td>\n",
       "      <td>-0.248889</td>\n",
       "      <td>Cutaneous Neurofibroma</td>\n",
       "    </tr>\n",
       "    <tr>\n",
       "      <th>3_9324</th>\n",
       "      <td>A1BG</td>\n",
       "      <td>patient10tumor3</td>\n",
       "      <td>patient10</td>\n",
       "      <td>-0.115625</td>\n",
       "      <td>Cutaneous Neurofibroma</td>\n",
       "    </tr>\n",
       "    <tr>\n",
       "      <th>4_9324</th>\n",
       "      <td>A1BG</td>\n",
       "      <td>patient11tumor1</td>\n",
       "      <td>patient11</td>\n",
       "      <td>-0.184728</td>\n",
       "      <td>Cutaneous Neurofibroma</td>\n",
       "    </tr>\n",
       "    <tr>\n",
       "      <th>5_9324</th>\n",
       "      <td>A1BG</td>\n",
       "      <td>patient11tumor14</td>\n",
       "      <td>patient11</td>\n",
       "      <td>-0.229165</td>\n",
       "      <td>Cutaneous Neurofibroma</td>\n",
       "    </tr>\n",
       "  </tbody>\n",
       "</table>\n",
       "</div>"
      ],
      "text/plain": [
       "       Symbol        specimenID individualID    zScore                 modelOf\n",
       "1_9324   A1BG   patient10tumor1    patient10 -0.226861  Cutaneous Neurofibroma\n",
       "2_9324   A1BG   patient10tumor2    patient10 -0.248889  Cutaneous Neurofibroma\n",
       "3_9324   A1BG   patient10tumor3    patient10 -0.115625  Cutaneous Neurofibroma\n",
       "4_9324   A1BG   patient11tumor1    patient11 -0.184728  Cutaneous Neurofibroma\n",
       "5_9324   A1BG  patient11tumor14    patient11 -0.229165  Cutaneous Neurofibroma"
      ]
     },
     "execution_count": 11,
     "metadata": {},
     "output_type": "execute_result"
    }
   ],
   "source": [
    "columnsNeeded = ['Symbol','specimenID','individualID','zScore','modelOf',]\n",
    "\n",
    "cnfDF = genes_with_meta[columnsNeeded]\n",
    "cnfDF = cnfDF[cnfDF.modelOf == 'Cutaneous Neurofibroma']\n",
    "cnfDF.head()"
   ]
  },
  {
   "cell_type": "code",
   "execution_count": 12,
   "metadata": {},
   "outputs": [
    {
     "name": "stdout",
     "output_type": "stream",
     "text": [
      "CNF dataset: 33 specimens, 11 individuals\n"
     ]
    }
   ],
   "source": [
    "specimens = sorted(cnfDF.specimenID.unique())\n",
    "individuals = sorted(cnfDF.individualID.unique())\n",
    "print(f'CNF dataset: {len(specimens)} specimens, {len(individuals)} individuals')"
   ]
  },
  {
   "cell_type": "markdown",
   "metadata": {},
   "source": [
    "## Separate out  controls derived from normal Schwannn cells"
   ]
  },
  {
   "cell_type": "markdown",
   "metadata": {},
   "source": [
    "**Here we cut the normal control dataset down** to two cell lines derived from immortalized normal Schwann cells. This was based on advice from Ray Mattingly and Sarah Gosline that these would make the best controls for comparison. See the readme for more details."
   ]
  },
  {
   "cell_type": "code",
   "execution_count": 13,
   "metadata": {},
   "outputs": [
    {
     "data": {
      "text/html": [
       "<div>\n",
       "<style scoped>\n",
       "    .dataframe tbody tr th:only-of-type {\n",
       "        vertical-align: middle;\n",
       "    }\n",
       "\n",
       "    .dataframe tbody tr th {\n",
       "        vertical-align: top;\n",
       "    }\n",
       "\n",
       "    .dataframe thead th {\n",
       "        text-align: right;\n",
       "    }\n",
       "</style>\n",
       "<table border=\"1\" class=\"dataframe\">\n",
       "  <thead>\n",
       "    <tr style=\"text-align: right;\">\n",
       "      <th></th>\n",
       "      <th>Symbol</th>\n",
       "      <th>specimenID</th>\n",
       "      <th>individualID</th>\n",
       "      <th>zScore</th>\n",
       "      <th>modelOf</th>\n",
       "    </tr>\n",
       "  </thead>\n",
       "  <tbody>\n",
       "    <tr>\n",
       "      <th>1176309_10842</th>\n",
       "      <td>A1BG</td>\n",
       "      <td>ipn02.3</td>\n",
       "      <td>NaN</td>\n",
       "      <td>-0.172290</td>\n",
       "      <td>normal</td>\n",
       "    </tr>\n",
       "    <tr>\n",
       "      <th>1176310_10842</th>\n",
       "      <td>A1BG</td>\n",
       "      <td>ipn97.4</td>\n",
       "      <td>NaN</td>\n",
       "      <td>-0.233391</td>\n",
       "      <td>normal</td>\n",
       "    </tr>\n",
       "    <tr>\n",
       "      <th>1176318_10842</th>\n",
       "      <td>A1BG</td>\n",
       "      <td>pn97.4</td>\n",
       "      <td>NaN</td>\n",
       "      <td>-0.157485</td>\n",
       "      <td>normal</td>\n",
       "    </tr>\n",
       "    <tr>\n",
       "      <th>1176324_10842</th>\n",
       "      <td>A1BG</td>\n",
       "      <td>pnNF95.12B</td>\n",
       "      <td>NaN</td>\n",
       "      <td>-0.111251</td>\n",
       "      <td>normal</td>\n",
       "    </tr>\n",
       "    <tr>\n",
       "      <th>1176326_10842</th>\n",
       "      <td>A1CF</td>\n",
       "      <td>ipn02.3</td>\n",
       "      <td>NaN</td>\n",
       "      <td>-0.190585</td>\n",
       "      <td>normal</td>\n",
       "    </tr>\n",
       "  </tbody>\n",
       "</table>\n",
       "</div>"
      ],
      "text/plain": [
       "              Symbol  specimenID individualID    zScore modelOf\n",
       "1176309_10842   A1BG     ipn02.3          NaN -0.172290  normal\n",
       "1176310_10842   A1BG     ipn97.4          NaN -0.233391  normal\n",
       "1176318_10842   A1BG      pn97.4          NaN -0.157485  normal\n",
       "1176324_10842   A1BG  pnNF95.12B          NaN -0.111251  normal\n",
       "1176326_10842   A1CF     ipn02.3          NaN -0.190585  normal"
      ]
     },
     "execution_count": 13,
     "metadata": {},
     "output_type": "execute_result"
    }
   ],
   "source": [
    "normDF = genes_with_meta[columnsNeeded]\n",
    "normDF = normDF[normDF.modelOf == 'normal']\n",
    "normDF.head()"
   ]
  },
  {
   "cell_type": "code",
   "execution_count": 14,
   "metadata": {
    "scrolled": false
   },
   "outputs": [
    {
     "name": "stdout",
     "output_type": "stream",
     "text": [
      "['AC027', 'AC028', 'AC029', 'AC029-1', 'AC029-2', 'AC030-1', 'AC030-2', 'AC033-1', 'AC033-2', 'AC033-3', 'AC034', 'AC6-1', 'AC6-2', 'AC7-1', 'AC7-2', 'AC7_A3', 'AC7_A4', 'HS11_1', 'HS11_10', 'HS11_11', 'HS11_12', 'HS11_13', 'HS11_14', 'HS11_15', 'HS11_16', 'HS11_17', 'HS11_18', 'HS11_2', 'HS11_3', 'HS11_4', 'HS11_5', 'HS11_6', 'HS11_7', 'HS11_8', 'HS11_9', 'HSC1L_GATCAG_L002', 'HSC1L_S27', 'MTa450-1', 'MTa450-10', 'MTa450-11', 'MTa450-15', 'MTa450-16', 'MTa450-17', 'MTa450-2', 'MTa450-3', 'MTa450-9', 'MTa451-7', 'MTa451-8', 'MTa451-9', 'N10_S25', 'N15_S3', 'N23_S24', 'N3_S26', 'N87_S23', 'Syn10-1', 'Syn10-2', 'Syn10-3', 'Syn10-4', 'Syn10-5', 'Syn10-6', 'Syn10-7', 'Syn10-8', 'Syn1_1', 'Syn1_10', 'Syn1_11', 'Syn1_12', 'Syn1_13', 'Syn1_14', 'Syn1_15', 'Syn1_16', 'Syn1_17', 'Syn1_18', 'Syn1_19', 'Syn1_2', 'Syn1_20', 'Syn1_21', 'Syn1_22', 'Syn1_23', 'Syn1_24', 'Syn1_3', 'Syn1_4', 'Syn1_5', 'Syn1_6', 'Syn1_7', 'Syn1_8', 'Syn1_9', 'Syn2-1', 'Syn2-2', 'Syn2-3', 'Syn3-1', 'Syn3-2', 'Syn3-3', 'WT-N10_TAGCTT_L002', 'WT-N23_TGACCA_L002', 'WT-N3_ACAGTG_L002', 'WT-N87_TTAGGC_L002', 'ipn02.3', 'ipn97.4', 'pn97.4', 'pnNF95.12B']\n"
     ]
    }
   ],
   "source": [
    "print(sorted(normDF.specimenID.unique())) # all \"normal\" specimens"
   ]
  },
  {
   "cell_type": "code",
   "execution_count": 15,
   "metadata": {},
   "outputs": [
    {
     "data": {
      "text/plain": [
       "38196"
      ]
     },
     "execution_count": 15,
     "metadata": {},
     "output_type": "execute_result"
    }
   ],
   "source": [
    "normDF = normDF[normDF.specimenID.isin(('ipn02.3','ipn97.4'))] # derived from normal Schwann cells\n",
    "len(normDF)"
   ]
  },
  {
   "cell_type": "code",
   "execution_count": 16,
   "metadata": {
    "scrolled": true
   },
   "outputs": [],
   "source": [
    "assert set(cnfDF.Symbol.unique())==set(normDF.Symbol.unique()), \"Gene set mismatch\""
   ]
  },
  {
   "cell_type": "code",
   "execution_count": 17,
   "metadata": {
    "scrolled": true
   },
   "outputs": [
    {
     "data": {
      "text/html": [
       "<div>\n",
       "<style scoped>\n",
       "    .dataframe tbody tr th:only-of-type {\n",
       "        vertical-align: middle;\n",
       "    }\n",
       "\n",
       "    .dataframe tbody tr th {\n",
       "        vertical-align: top;\n",
       "    }\n",
       "\n",
       "    .dataframe thead th {\n",
       "        text-align: right;\n",
       "    }\n",
       "</style>\n",
       "<table border=\"1\" class=\"dataframe\">\n",
       "  <thead>\n",
       "    <tr style=\"text-align: right;\">\n",
       "      <th></th>\n",
       "      <th>Symbol</th>\n",
       "      <th>specimenID</th>\n",
       "      <th>individualID</th>\n",
       "      <th>zScore</th>\n",
       "      <th>modelOf</th>\n",
       "    </tr>\n",
       "  </thead>\n",
       "  <tbody>\n",
       "    <tr>\n",
       "      <th>1176309_10842</th>\n",
       "      <td>A1BG</td>\n",
       "      <td>ipn02.3</td>\n",
       "      <td>NaN</td>\n",
       "      <td>-0.172290</td>\n",
       "      <td>normal</td>\n",
       "    </tr>\n",
       "    <tr>\n",
       "      <th>1176310_10842</th>\n",
       "      <td>A1BG</td>\n",
       "      <td>ipn97.4</td>\n",
       "      <td>NaN</td>\n",
       "      <td>-0.233391</td>\n",
       "      <td>normal</td>\n",
       "    </tr>\n",
       "    <tr>\n",
       "      <th>1176326_10842</th>\n",
       "      <td>A1CF</td>\n",
       "      <td>ipn02.3</td>\n",
       "      <td>NaN</td>\n",
       "      <td>-0.190585</td>\n",
       "      <td>normal</td>\n",
       "    </tr>\n",
       "    <tr>\n",
       "      <th>1176327_10842</th>\n",
       "      <td>A1CF</td>\n",
       "      <td>ipn97.4</td>\n",
       "      <td>NaN</td>\n",
       "      <td>-0.242574</td>\n",
       "      <td>normal</td>\n",
       "    </tr>\n",
       "    <tr>\n",
       "      <th>1176343_10842</th>\n",
       "      <td>A2M</td>\n",
       "      <td>ipn02.3</td>\n",
       "      <td>NaN</td>\n",
       "      <td>-0.178365</td>\n",
       "      <td>normal</td>\n",
       "    </tr>\n",
       "  </tbody>\n",
       "</table>\n",
       "</div>"
      ],
      "text/plain": [
       "              Symbol specimenID individualID    zScore modelOf\n",
       "1176309_10842   A1BG    ipn02.3          NaN -0.172290  normal\n",
       "1176310_10842   A1BG    ipn97.4          NaN -0.233391  normal\n",
       "1176326_10842   A1CF    ipn02.3          NaN -0.190585  normal\n",
       "1176327_10842   A1CF    ipn97.4          NaN -0.242574  normal\n",
       "1176343_10842    A2M    ipn02.3          NaN -0.178365  normal"
      ]
     },
     "execution_count": 17,
     "metadata": {},
     "output_type": "execute_result"
    }
   ],
   "source": [
    "normDF.head()"
   ]
  },
  {
   "cell_type": "markdown",
   "metadata": {},
   "source": [
    "\n",
    "## Compare CNF vs. normal expression"
   ]
  },
  {
   "cell_type": "code",
   "execution_count": 18,
   "metadata": {},
   "outputs": [],
   "source": [
    "normMeanDF = normDF.groupby(['Symbol']).mean()\n",
    "# average zScore values for each gene over the normal set"
   ]
  },
  {
   "cell_type": "code",
   "execution_count": 19,
   "metadata": {
    "scrolled": true
   },
   "outputs": [
    {
     "data": {
      "text/plain": [
       "((38196, 5), (19098, 1))"
      ]
     },
     "execution_count": 19,
     "metadata": {},
     "output_type": "execute_result"
    }
   ],
   "source": [
    "normDF.shape,normMeanDF.shape"
   ]
  },
  {
   "cell_type": "code",
   "execution_count": 20,
   "metadata": {
    "scrolled": false
   },
   "outputs": [
    {
     "data": {
      "text/html": [
       "<div>\n",
       "<style scoped>\n",
       "    .dataframe tbody tr th:only-of-type {\n",
       "        vertical-align: middle;\n",
       "    }\n",
       "\n",
       "    .dataframe tbody tr th {\n",
       "        vertical-align: top;\n",
       "    }\n",
       "\n",
       "    .dataframe thead th {\n",
       "        text-align: right;\n",
       "    }\n",
       "</style>\n",
       "<table border=\"1\" class=\"dataframe\">\n",
       "  <thead>\n",
       "    <tr style=\"text-align: right;\">\n",
       "      <th></th>\n",
       "      <th>zScore</th>\n",
       "    </tr>\n",
       "    <tr>\n",
       "      <th>Symbol</th>\n",
       "      <th></th>\n",
       "    </tr>\n",
       "  </thead>\n",
       "  <tbody>\n",
       "    <tr>\n",
       "      <th>A1BG</th>\n",
       "      <td>-0.202840</td>\n",
       "    </tr>\n",
       "    <tr>\n",
       "      <th>A1CF</th>\n",
       "      <td>-0.216580</td>\n",
       "    </tr>\n",
       "    <tr>\n",
       "      <th>A2M</th>\n",
       "      <td>-0.181888</td>\n",
       "    </tr>\n",
       "    <tr>\n",
       "      <th>A2ML1</th>\n",
       "      <td>-0.216443</td>\n",
       "    </tr>\n",
       "    <tr>\n",
       "      <th>A3GALT2</th>\n",
       "      <td>-0.216558</td>\n",
       "    </tr>\n",
       "  </tbody>\n",
       "</table>\n",
       "</div>"
      ],
      "text/plain": [
       "           zScore\n",
       "Symbol           \n",
       "A1BG    -0.202840\n",
       "A1CF    -0.216580\n",
       "A2M     -0.181888\n",
       "A2ML1   -0.216443\n",
       "A3GALT2 -0.216558"
      ]
     },
     "execution_count": 20,
     "metadata": {},
     "output_type": "execute_result"
    }
   ],
   "source": [
    "normMeanDF.head()"
   ]
  },
  {
   "cell_type": "code",
   "execution_count": 21,
   "metadata": {},
   "outputs": [
    {
     "data": {
      "text/plain": [
       "Index(['A1BG', 'A1CF', 'A2M', 'A2ML1', 'A3GALT2', 'A4GALT', 'A4GNT', 'AAAS',\n",
       "       'AACS', 'AADAC',\n",
       "       ...\n",
       "       'ZW10', 'ZWILCH', 'ZWINT', 'ZXDA', 'ZXDB', 'ZXDC', 'ZYG11A', 'ZYG11B',\n",
       "       'ZYX', 'ZZEF1'],\n",
       "      dtype='object', name='Symbol', length=19098)"
      ]
     },
     "execution_count": 21,
     "metadata": {},
     "output_type": "execute_result"
    }
   ],
   "source": [
    "normMeanDF.index"
   ]
  },
  {
   "cell_type": "code",
   "execution_count": 22,
   "metadata": {},
   "outputs": [],
   "source": [
    "normMeanMap = dict(zip(normMeanDF.index,normMeanDF.zScore))\n",
    "# maps gene symbol -> average expression value on the \"normal\" set"
   ]
  },
  {
   "cell_type": "code",
   "execution_count": 23,
   "metadata": {
    "scrolled": false
   },
   "outputs": [
    {
     "data": {
      "text/plain": [
       "(-0.202840401600599, -0.21657953808056302)"
      ]
     },
     "execution_count": 23,
     "metadata": {},
     "output_type": "execute_result"
    }
   ],
   "source": [
    "normMeanMap['A1BG'],normMeanMap['A1CF']"
   ]
  },
  {
   "cell_type": "code",
   "execution_count": 24,
   "metadata": {},
   "outputs": [
    {
     "data": {
      "text/html": [
       "<div>\n",
       "<style scoped>\n",
       "    .dataframe tbody tr th:only-of-type {\n",
       "        vertical-align: middle;\n",
       "    }\n",
       "\n",
       "    .dataframe tbody tr th {\n",
       "        vertical-align: top;\n",
       "    }\n",
       "\n",
       "    .dataframe thead th {\n",
       "        text-align: right;\n",
       "    }\n",
       "</style>\n",
       "<table border=\"1\" class=\"dataframe\">\n",
       "  <thead>\n",
       "    <tr style=\"text-align: right;\">\n",
       "      <th></th>\n",
       "      <th>Symbol</th>\n",
       "      <th>specimenID</th>\n",
       "      <th>individualID</th>\n",
       "      <th>zScore</th>\n",
       "      <th>modelOf</th>\n",
       "    </tr>\n",
       "  </thead>\n",
       "  <tbody>\n",
       "    <tr>\n",
       "      <th>1_9324</th>\n",
       "      <td>A1BG</td>\n",
       "      <td>patient10tumor1</td>\n",
       "      <td>patient10</td>\n",
       "      <td>-0.226861</td>\n",
       "      <td>Cutaneous Neurofibroma</td>\n",
       "    </tr>\n",
       "    <tr>\n",
       "      <th>2_9324</th>\n",
       "      <td>A1BG</td>\n",
       "      <td>patient10tumor2</td>\n",
       "      <td>patient10</td>\n",
       "      <td>-0.248889</td>\n",
       "      <td>Cutaneous Neurofibroma</td>\n",
       "    </tr>\n",
       "    <tr>\n",
       "      <th>3_9324</th>\n",
       "      <td>A1BG</td>\n",
       "      <td>patient10tumor3</td>\n",
       "      <td>patient10</td>\n",
       "      <td>-0.115625</td>\n",
       "      <td>Cutaneous Neurofibroma</td>\n",
       "    </tr>\n",
       "    <tr>\n",
       "      <th>4_9324</th>\n",
       "      <td>A1BG</td>\n",
       "      <td>patient11tumor1</td>\n",
       "      <td>patient11</td>\n",
       "      <td>-0.184728</td>\n",
       "      <td>Cutaneous Neurofibroma</td>\n",
       "    </tr>\n",
       "    <tr>\n",
       "      <th>5_9324</th>\n",
       "      <td>A1BG</td>\n",
       "      <td>patient11tumor14</td>\n",
       "      <td>patient11</td>\n",
       "      <td>-0.229165</td>\n",
       "      <td>Cutaneous Neurofibroma</td>\n",
       "    </tr>\n",
       "  </tbody>\n",
       "</table>\n",
       "</div>"
      ],
      "text/plain": [
       "       Symbol        specimenID individualID    zScore                 modelOf\n",
       "1_9324   A1BG   patient10tumor1    patient10 -0.226861  Cutaneous Neurofibroma\n",
       "2_9324   A1BG   patient10tumor2    patient10 -0.248889  Cutaneous Neurofibroma\n",
       "3_9324   A1BG   patient10tumor3    patient10 -0.115625  Cutaneous Neurofibroma\n",
       "4_9324   A1BG   patient11tumor1    patient11 -0.184728  Cutaneous Neurofibroma\n",
       "5_9324   A1BG  patient11tumor14    patient11 -0.229165  Cutaneous Neurofibroma"
      ]
     },
     "execution_count": 24,
     "metadata": {},
     "output_type": "execute_result"
    }
   ],
   "source": [
    "cnfDF.head()"
   ]
  },
  {
   "cell_type": "code",
   "execution_count": 25,
   "metadata": {},
   "outputs": [],
   "source": [
    "# map gene symbol -> list of differences of zScore between CNF specimens and normal average\n",
    "expressionDiffLists = dict((sym,[]) for sym in normMeanMap)\n",
    "clipTo = 20.0\n",
    "for sym,v in zip(cnfDF.Symbol,cnfDF.zScore) :\n",
    "    expressionDiffLists[sym].append(max(-clipTo, min(clipTo, v-normMeanMap[sym])))"
   ]
  },
  {
   "cell_type": "code",
   "execution_count": 26,
   "metadata": {},
   "outputs": [],
   "source": [
    "# map gene symbol -> average difference of zScore between CNF specimens and \"normal\" average\n",
    "expressionDiffMeans = {}\n",
    "for sym,diffs in expressionDiffLists.items() :\n",
    "    expressionDiffMeans[sym] = sum(diffs)/len(diffs)"
   ]
  },
  {
   "cell_type": "code",
   "execution_count": 27,
   "metadata": {},
   "outputs": [
    {
     "data": {
      "image/png": "[encoded data removed]",
      "text/plain": [
       "<Figure size 432x288 with 1 Axes>"
      ]
     },
     "metadata": {
      "needs_background": "light"
     },
     "output_type": "display_data"
    }
   ],
   "source": [
    "def listAllExpDiffs() :\n",
    "    # sorted list of all differences\n",
    "    return sorted(itertools.chain.from_iterable(expressionDiffLists.values()))\n",
    "plt.plot(listAllExpDiffs());"
   ]
  },
  {
   "cell_type": "code",
   "execution_count": 28,
   "metadata": {
    "scrolled": true
   },
   "outputs": [
    {
     "data": {
      "image/png": "[encoded data removed]",
      "text/plain": [
       "<Figure size 432x288 with 1 Axes>"
      ]
     },
     "metadata": {
      "needs_background": "light"
     },
     "output_type": "display_data"
    }
   ],
   "source": [
    "plt.plot(sorted(expressionDiffMeans.values()));"
   ]
  },
  {
   "cell_type": "markdown",
   "metadata": {},
   "source": [
    "## Read the Drug Target Explorer and build a map: gene -> list of associated compounds"
   ]
  },
  {
   "cell_type": "code",
   "execution_count": 29,
   "metadata": {},
   "outputs": [],
   "source": [
    "def readDrugAssoc(fPath) :\n",
    "    with open(fPath,'r') as f :\n",
    "        return list(csv.reader(f,delimiter=' '))"
   ]
  },
  {
   "cell_type": "code",
   "execution_count": 30,
   "metadata": {
    "scrolled": true
   },
   "outputs": [],
   "source": [
    "drugAssoc = readDrugAssoc(os.path.join(dataDir,'drug_target_associations_v2.txt'))"
   ]
  },
  {
   "cell_type": "code",
   "execution_count": 31,
   "metadata": {},
   "outputs": [],
   "source": [
    "drugAssocMap = collections.defaultdict(list)\n",
    "for r in drugAssoc[1:] :\n",
    "    drugAssocMap[r[1]].append(r[-6])"
   ]
  },
  {
   "cell_type": "code",
   "execution_count": 32,
   "metadata": {
    "scrolled": true
   },
   "outputs": [
    {
     "data": {
      "text/plain": [
       "['Anthralin', 'Copper', 'Zinc']"
      ]
     },
     "execution_count": 32,
     "metadata": {},
     "output_type": "execute_result"
    }
   ],
   "source": [
    "drugAssocMap['KRT2']"
   ]
  },
  {
   "cell_type": "markdown",
   "metadata": {},
   "source": [
    "## Check most overexpressed genes against known copper binding proteins"
   ]
  },
  {
   "cell_type": "code",
   "execution_count": 33,
   "metadata": {},
   "outputs": [],
   "source": [
    "nSyms = 10\n",
    "syms = sorted(expressionDiffMeans.keys(), key=lambda x : expressionDiffMeans[x], reverse=True)[:nSyms]\n",
    "symInd = dict((sym,i) for i,sym in enumerate(syms))"
   ]
  },
  {
   "cell_type": "code",
   "execution_count": 34,
   "metadata": {},
   "outputs": [
    {
     "name": "stdout",
     "output_type": "stream",
     "text": [
      "Most overexpressed genes: DCN, APOD, GSN, AHNAK, KRT10, KRT1, KRT14, KRT5, FLG, B2M\n"
     ]
    }
   ],
   "source": [
    "print('Most overexpressed genes:',', '.join(syms))"
   ]
  },
  {
   "cell_type": "code",
   "execution_count": 35,
   "metadata": {},
   "outputs": [
    {
     "name": "stdout",
     "output_type": "stream",
     "text": [
      "Copper-binding: APOD, GSN, KRT10, KRT1, B2M\n"
     ]
    }
   ],
   "source": [
    "# Most overexpressed genes with known copper binding\n",
    "print('Copper-binding:',', '.join([sym for sym in syms if 'Copper' in drugAssocMap[sym]]))"
   ]
  },
  {
   "cell_type": "markdown",
   "metadata": {},
   "source": [
    "## Create a more detailed heatmap of zScores for most overexpressed genes"
   ]
  },
  {
   "cell_type": "code",
   "execution_count": 36,
   "metadata": {},
   "outputs": [
    {
     "data": {
      "image/png": "[encoded data removed]",
      "text/plain": [
       "<Figure size 1080x576 with 1 Axes>"
      ]
     },
     "metadata": {
      "needs_background": "light"
     },
     "output_type": "display_data"
    }
   ],
   "source": [
    "overexpHM = np.zeros((nSyms,len(specimens)+3))\n",
    "maxHMVal = 20.0\n",
    "overexpHM[:,-3:] = maxHMVal\n",
    "\n",
    "fig,ax = plt.subplots(figsize=(15,8))\n",
    "ax.xaxis.tick_top()\n",
    "ax.set_yticks(np.arange(len(overexpHM)))\n",
    "ax.set_yticklabels([f'{sym}\\n+{expressionDiffMeans[sym]:.1f}' for sym in syms])\n",
    "ax.set_xticks(np.arange(len(specimens)+3))\n",
    "ax.set_xticklabels(specimens + [' ','copper binding',' '])\n",
    "plt.setp(ax.get_xticklabels(),rotation=85)\n",
    "\n",
    "for sym,specimenID,v in zip(cnfDF.Symbol,cnfDF.specimenID,cnfDF.zScore) :\n",
    "    if sym in symInd :\n",
    "        i = symInd[sym]\n",
    "        j = specimens.index(specimenID)\n",
    "        meanV = normMeanMap[sym]\n",
    "        overexpHM[i,j] = min(maxHMVal,max(0.0,v-meanV))\n",
    "        if 'Copper' in drugAssocMap[sym] :\n",
    "            if v > meanV :\n",
    "                ax.text(j,i,'>',ha='center',va='center',color='g')\n",
    "            else :\n",
    "                ax.text(j,i,'<',ha='center',va='center',color='y')\n",
    "for i,sym in enumerate(syms) :\n",
    "    if 'Copper' in drugAssocMap[sym] :\n",
    "        ax.text(len(specimens)+1,i,'+',ha='center',va='center',color='g')\n",
    "    elif len(drugAssocMap[sym]) > 0 :\n",
    "        ax.text(len(specimens)+1,i,'-',ha='center',va='center',color='r')\n",
    "ax.imshow(overexpHM, cmap='hot', interpolation='nearest', aspect='auto')\n",
    "plt.savefig('shirinRNA.png')"
   ]
  },
  {
   "cell_type": "code",
   "execution_count": null,
   "metadata": {},
   "outputs": [],
   "source": []
  }
 ],
 "metadata": {
  "kernelspec": {
   "display_name": "Python 3",
   "language": "python",
   "name": "python3"
  },
  "language_info": {
   "codemirror_mode": {
    "name": "ipython",
    "version": 3
   },
   "file_extension": ".py",
   "mimetype": "text/x-python",
   "name": "python",
   "nbconvert_exporter": "python",
   "pygments_lexer": "ipython3",
   "version": "3.8.2"
  }
 },
 "nbformat": 4,
 "nbformat_minor": 2
}
